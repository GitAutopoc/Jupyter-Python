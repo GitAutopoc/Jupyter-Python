{
 "cells": [
  {
   "cell_type": "code",
   "execution_count": 1,
   "id": "58f4d983",
   "metadata": {},
   "outputs": [
    {
     "name": "stdout",
     "output_type": "stream",
     "text": [
      "importing Jupyter notebook from employee_bonus.ipynb\n",
      "importing Jupyter notebook from TestUtils.ipynb\n",
      "importing Jupyter notebook from TestResults.ipynb\n",
      "importing Jupyter notebook from TestCaseResultDto.ipynb\n"
     ]
    },
    {
     "name": "stderr",
     "output_type": "stream",
     "text": [
      "."
     ]
    },
    {
     "name": "stdout",
     "output_type": "stream",
     "text": [
      "TestResult = Passed\n"
     ]
    },
    {
     "name": "stderr",
     "output_type": "stream",
     "text": [
      "."
     ]
    },
    {
     "name": "stdout",
     "output_type": "stream",
     "text": [
      "TestReturnTypeDict = Passed\n"
     ]
    },
    {
     "name": "stderr",
     "output_type": "stream",
     "text": [
      "."
     ]
    },
    {
     "name": "stdout",
     "output_type": "stream",
     "text": [
      "TestReturnTypeNone = Passed\n"
     ]
    },
    {
     "name": "stderr",
     "output_type": "stream",
     "text": [
      "\n",
      "----------------------------------------------------------------------\n",
      "Ran 3 tests in 15.702s\n",
      "\n",
      "OK\n"
     ]
    }
   ],
   "source": [
    "import unittest\n",
    "import import_ipynb\n",
    "from employee_bonus import BonusCalculator\n",
    "from TestUtils import TestUtils\n",
    "\n",
    "class FuctionalTests(unittest.TestCase):\n",
    "    def test_return_type_none(self):\n",
    "        obj=BonusCalculator.calculate_bonus({\"id\":101,\"dob\":\"1999-4-2\"},{\"id\":101,\"salary\":8000})\n",
    "        test_obj = TestUtils()\n",
    "        if type(obj)!=type(None):\n",
    "            test_obj.yakshaAssert(\"TestReturnTypeNone\", True, \"functional\")\n",
    "            print(\"TestReturnTypeNone = Passed\")\n",
    "        else:\n",
    "            test_obj.yakshaAssert(\"TestReturnTypeNone\", False, \"functional\")\n",
    "            print(\"TestReturnTypeNone = Failed\")\n",
    "\n",
    "    def test_return_type_dict(self):\n",
    "        obj=BonusCalculator.calculate_bonus({\"id\":101,\"dob\":\"1999-4-2\"},{\"id\":101,\"salary\":8000})\n",
    "        test_obj = TestUtils()\n",
    "        if type(obj)==type({}):\n",
    "            test_obj.yakshaAssert(\"TestReturnTypeDict\", True, \"functional\")\n",
    "            print(\"TestReturnTypeDict = Passed\")\n",
    "        else:\n",
    "            test_obj.yakshaAssert(\"TestReturnTypeDict\", False, \"functional\")\n",
    "            print(\"TestReturnTypeDict = Failed\")\n",
    "\n",
    "    def test_result(self):\n",
    "        obj=BonusCalculator.calculate_bonus({\"id\":101,\"dob\":\"1999-4-2\"},{\"id\":101,\"salary\":25000})\n",
    "        test_obj = TestUtils()\n",
    "        if type(obj)!=type(None):\n",
    "            if obj['salary']==25200:\n",
    "                test_obj.yakshaAssert(\"TestResult\", True, \"functional\")\n",
    "                print(\"TestResult = Passed\")\n",
    "            else:\n",
    "                test_obj.yakshaAssert(\"TestResult\", False, \"functional\")\n",
    "                print(\"TestResult = Failed\")\n",
    "        else:\n",
    "            test_obj.yakshaAssert(\"TestResult\", False, \"functional\")\n",
    "            print(\"TestResult = Failed\")\n",
    "\n",
    "if __name__ == '__main__':\n",
    "    unittest.main(argv=['first-arg-is-ignored'], exit=False)"
   ]
  }
 ],
 "metadata": {
  "kernelspec": {
   "display_name": "Python 3 (ipykernel)",
   "language": "python",
   "name": "python3"
  },
  "language_info": {
   "codemirror_mode": {
    "name": "ipython",
    "version": 3
   },
   "file_extension": ".py",
   "mimetype": "text/x-python",
   "name": "python",
   "nbconvert_exporter": "python",
   "pygments_lexer": "ipython3",
   "version": "3.9.0"
  }
 },
 "nbformat": 4,
 "nbformat_minor": 5
}
