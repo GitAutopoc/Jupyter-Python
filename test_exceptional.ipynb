{
 "cells": [
  {
   "cell_type": "code",
   "execution_count": 4,
   "id": "d00211c3",
   "metadata": {},
   "outputs": [
    {
     "name": "stderr",
     "output_type": "stream",
     "text": [
      "."
     ]
    },
    {
     "name": "stdout",
     "output_type": "stream",
     "text": [
      "TestValueErrorForDob = Passed\n"
     ]
    },
    {
     "name": "stderr",
     "output_type": "stream",
     "text": [
      "."
     ]
    },
    {
     "name": "stdout",
     "output_type": "stream",
     "text": [
      "TestValueErrorForId = Passed\n"
     ]
    },
    {
     "name": "stderr",
     "output_type": "stream",
     "text": [
      "."
     ]
    },
    {
     "name": "stdout",
     "output_type": "stream",
     "text": [
      "TestValueErrorForSalary = Passed\n"
     ]
    },
    {
     "name": "stderr",
     "output_type": "stream",
     "text": [
      "\n",
      "----------------------------------------------------------------------\n",
      "Ran 3 tests in 12.911s\n",
      "\n",
      "OK\n"
     ]
    }
   ],
   "source": [
    "import import_ipynb\n",
    "import unittest\n",
    "from employee_bonus import BonusCalculator\n",
    "from TestUtils import TestUtils\n",
    "class ExceptionalTest(unittest.TestCase):\n",
    "    def test_value_error_for_id(self):\n",
    "        test_obj = TestUtils()\n",
    "        try:\n",
    "            BonusCalculator.calculate_bonus({\"id\":\"101\",\"dob\":\"1999-4-2\"},{\"id\":101,\"salary\":8000})\n",
    "            test_obj.yakshaAssert(\"TestValueErrorForId\",False, \"exception\")\n",
    "            print(\"TestValueErrorForId = Failed\")\n",
    "        except ValueError:\n",
    "            test_obj.yakshaAssert(\"TestValueErrorForId\", True, \"exception\")\n",
    "            print(\"TestValueErrorForId = Passed\")\n",
    "\n",
    "    def test_value_error_for_salary(self):\n",
    "        test_obj = TestUtils()\n",
    "        try:\n",
    "            BonusCalculator.calculate_bonus({\"id\":101,\"dob\":\"1999-4-2\"},{\"id\":101,\"salary\":\"8000\"})\n",
    "            test_obj.yakshaAssert(\"TestValueErrorForSalary\",False, \"exception\")\n",
    "            print(\"TestValueErrorForSalary = Failed\")\n",
    "        except ValueError:\n",
    "            test_obj.yakshaAssert(\"TestValueErrorForSalary\", True, \"exception\")\n",
    "            print(\"TestValueErrorForSalary = Passed\")\n",
    "\n",
    "    def test_value_error_for_dob(self):\n",
    "        test_obj = TestUtils()\n",
    "        try:\n",
    "            BonusCalculator.calculate_bonus({\"id\":101,\"dob\":1999-4-2},{\"id\":101,\"salary\":8000})\n",
    "            test_obj.yakshaAssert(\"TestValueErrorForDob\",False, \"exception\")\n",
    "            print(\"TestValueErrorForDob = Failed\")\n",
    "        except ValueError:\n",
    "            test_obj.yakshaAssert(\"TestValueErrorForDob\", True, \"exception\")\n",
    "            print(\"TestValueErrorForDob = Passed\")\n",
    "if __name__ == '__main__':\n",
    "    unittest.main(argv=['first-arg-is-ignored'], exit=False)"
   ]
  },
  {
   "cell_type": "code",
   "execution_count": null,
   "id": "755dc37d",
   "metadata": {},
   "outputs": [],
   "source": []
  }
 ],
 "metadata": {
  "kernelspec": {
   "display_name": "Python 3 (ipykernel)",
   "language": "python",
   "name": "python3"
  },
  "language_info": {
   "codemirror_mode": {
    "name": "ipython",
    "version": 3
   },
   "file_extension": ".py",
   "mimetype": "text/x-python",
   "name": "python",
   "nbconvert_exporter": "python",
   "pygments_lexer": "ipython3",
   "version": "3.9.0"
  }
 },
 "nbformat": 4,
 "nbformat_minor": 5
}
